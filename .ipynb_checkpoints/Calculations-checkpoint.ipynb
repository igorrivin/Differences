{
 "cells": [
  {
   "cell_type": "code",
   "execution_count": 2,
   "metadata": {},
   "outputs": [],
   "source": [
    "# packages\n",
    "import numpy as np\n",
    "import pandas as pd\n",
    "import matplotlib.pyplot as plt\n",
    "import seaborn as sns\n",
    "import scipy.stats as stats\n",
    "from sklearn.linear_model import LinearRegression\n",
    "import statsmodels.api as sm\n",
    "from sklearn.preprocessing import StandardScaler\n",
    "import random\n",
    "import pylab \n",
    "plt.rcParams['figure.figsize'] = [10, 5]"
   ]
  },
  {
   "cell_type": "code",
   "execution_count": 3,
   "metadata": {},
   "outputs": [
    {
     "data": {
      "text/html": [
       "<div>\n",
       "<style scoped>\n",
       "    .dataframe tbody tr th:only-of-type {\n",
       "        vertical-align: middle;\n",
       "    }\n",
       "\n",
       "    .dataframe tbody tr th {\n",
       "        vertical-align: top;\n",
       "    }\n",
       "\n",
       "    .dataframe thead th {\n",
       "        text-align: right;\n",
       "    }\n",
       "</style>\n",
       "<table border=\"1\" class=\"dataframe\">\n",
       "  <thead>\n",
       "    <tr style=\"text-align: right;\">\n",
       "      <th></th>\n",
       "      <th>School</th>\n",
       "      <th>Gender</th>\n",
       "      <th>Role</th>\n",
       "      <th>Citations</th>\n",
       "      <th>Earliest_Pub</th>\n",
       "      <th>Field_1</th>\n",
       "      <th>Field_2</th>\n",
       "      <th>Major field</th>\n",
       "      <th>Age</th>\n",
       "      <th>citperyear</th>\n",
       "      <th>citperyear13</th>\n",
       "    </tr>\n",
       "  </thead>\n",
       "  <tbody>\n",
       "    <tr>\n",
       "      <td>0</td>\n",
       "      <td>Arizona State University</td>\n",
       "      <td>Male</td>\n",
       "      <td>Professor</td>\n",
       "      <td>223</td>\n",
       "      <td>1986</td>\n",
       "      <td>Systems theory; control</td>\n",
       "      <td>NaN</td>\n",
       "      <td>Applied Math</td>\n",
       "      <td>34</td>\n",
       "      <td>6.558824</td>\n",
       "      <td>2.277101</td>\n",
       "    </tr>\n",
       "    <tr>\n",
       "      <td>1</td>\n",
       "      <td>Arizona State University</td>\n",
       "      <td>Male</td>\n",
       "      <td>Professor</td>\n",
       "      <td>148</td>\n",
       "      <td>1985</td>\n",
       "      <td>Statistics</td>\n",
       "      <td>NaN</td>\n",
       "      <td>Statistics</td>\n",
       "      <td>35</td>\n",
       "      <td>4.228571</td>\n",
       "      <td>1.455369</td>\n",
       "    </tr>\n",
       "    <tr>\n",
       "      <td>2</td>\n",
       "      <td>Arizona State University</td>\n",
       "      <td>Male</td>\n",
       "      <td>Professor</td>\n",
       "      <td>172</td>\n",
       "      <td>1983</td>\n",
       "      <td>Statistical mechanics, structure of matter</td>\n",
       "      <td>NaN</td>\n",
       "      <td>Mathematical Physics</td>\n",
       "      <td>37</td>\n",
       "      <td>4.648649</td>\n",
       "      <td>1.573498</td>\n",
       "    </tr>\n",
       "    <tr>\n",
       "      <td>3</td>\n",
       "      <td>Arizona State University</td>\n",
       "      <td>Male</td>\n",
       "      <td>Professor</td>\n",
       "      <td>703</td>\n",
       "      <td>1982</td>\n",
       "      <td>Special functions</td>\n",
       "      <td>NaN</td>\n",
       "      <td>Analysis</td>\n",
       "      <td>38</td>\n",
       "      <td>18.500000</td>\n",
       "      <td>6.212074</td>\n",
       "    </tr>\n",
       "    <tr>\n",
       "      <td>4</td>\n",
       "      <td>Arizona State University</td>\n",
       "      <td>Male</td>\n",
       "      <td>Professor</td>\n",
       "      <td>346</td>\n",
       "      <td>1979</td>\n",
       "      <td>Several complex variables and analytic spaces</td>\n",
       "      <td>NaN</td>\n",
       "      <td>Complex Analysis</td>\n",
       "      <td>41</td>\n",
       "      <td>8.439024</td>\n",
       "      <td>2.769855</td>\n",
       "    </tr>\n",
       "  </tbody>\n",
       "</table>\n",
       "</div>"
      ],
      "text/plain": [
       "                     School Gender       Role  Citations  Earliest_Pub  \\\n",
       "0  Arizona State University   Male  Professor        223          1986   \n",
       "1  Arizona State University   Male  Professor        148          1985   \n",
       "2  Arizona State University   Male  Professor        172          1983   \n",
       "3  Arizona State University   Male  Professor        703          1982   \n",
       "4  Arizona State University   Male  Professor        346          1979   \n",
       "\n",
       "                                         Field_1 Field_2  \\\n",
       "0                        Systems theory; control     NaN   \n",
       "1                                     Statistics     NaN   \n",
       "2     Statistical mechanics, structure of matter     NaN   \n",
       "3                              Special functions     NaN   \n",
       "4  Several complex variables and analytic spaces     NaN   \n",
       "\n",
       "            Major field  Age  citperyear  citperyear13  \n",
       "0          Applied Math   34    6.558824      2.277101  \n",
       "1            Statistics   35    4.228571      1.455369  \n",
       "2  Mathematical Physics   37    4.648649      1.573498  \n",
       "3              Analysis   38   18.500000      6.212074  \n",
       "4      Complex Analysis   41    8.439024      2.769855  "
      ]
     },
     "execution_count": 3,
     "metadata": {},
     "output_type": "execute_result"
    }
   ],
   "source": [
    "df = pd.read_csv(\"./classified.csv\")\n",
    "df[\"Age\"]=2020-df[\"Earliest_Pub\"]\n",
    "df[\"citperyear\"] = df[\"Citations\"]/df[\"Age\"]\n",
    "df[\"citperyear13\"] = df[\"Citations\"]/df[\"Age\"]**1.3\n",
    "\n",
    "#to debug\n",
    "df = df[df[\"Age\"]>=0]\n",
    "df.head()"
   ]
  },
  {
   "cell_type": "markdown",
   "metadata": {},
   "source": [
    "## Distribution of Citations and Citations/Year1.3"
   ]
  },
  {
   "cell_type": "code",
   "execution_count": 4,
   "metadata": {},
   "outputs": [
    {
     "data": {
      "text/plain": [
       "Text(0, 0.5, 'Count')"
      ]
     },
     "execution_count": 4,
     "metadata": {},
     "output_type": "execute_result"
    },
    {
     "data": {
      "image/png": "[encoded data removed]",
      "text/plain": [
       "<Figure size 720x360 with 1 Axes>"
      ]
     },
     "metadata": {
      "needs_background": "light"
     },
     "output_type": "display_data"
    }
   ],
   "source": [
    "plt.hist(df.Citations)\n",
    "plt.title(\"Distribution of Citations\")\n",
    "plt.xlabel(\"Citations\")\n",
    "plt.ylabel(\"Count\")"
   ]
  },
  {
   "cell_type": "code",
   "execution_count": 5,
   "metadata": {},
   "outputs": [
    {
     "data": {
      "image/png": "[encoded data removed]",
      "text/plain": [
       "<Figure size 720x360 with 1 Axes>"
      ]
     },
     "metadata": {
      "needs_background": "light"
     },
     "output_type": "display_data"
    }
   ],
   "source": [
    "fig = plt.figure()\n",
    "ax = plt.subplot(111)\n",
    "stats.probplot(df.Citations**0.5, dist=stats.expon, sparams=1.0, plot=ax)\n",
    "plt.show()"
   ]
  },
  {
   "cell_type": "code",
   "execution_count": 6,
   "metadata": {},
   "outputs": [
    {
     "data": {
      "text/plain": [
       "Text(0, 0.5, 'Count')"
      ]
     },
     "execution_count": 6,
     "metadata": {},
     "output_type": "execute_result"
    },
    {
     "data": {
      "image/png": "[encoded data removed]",
      "text/plain": [
       "<Figure size 720x360 with 1 Axes>"
      ]
     },
     "metadata": {
      "needs_background": "light"
     },
     "output_type": "display_data"
    }
   ],
   "source": [
    "plt.hist(df.citperyear13)\n",
    "plt.title(\"Distribution of Citations/Year^1.3\")\n",
    "plt.xlabel(\"Citations\")\n",
    "plt.ylabel(\"Count\")"
   ]
  },
  {
   "cell_type": "code",
   "execution_count": 7,
   "metadata": {},
   "outputs": [
    {
     "data": {
      "image/png": "[encoded data removed]",
      "text/plain": [
       "<Figure size 720x360 with 1 Axes>"
      ]
     },
     "metadata": {
      "needs_background": "light"
     },
     "output_type": "display_data"
    }
   ],
   "source": [
    "fig = plt.figure()\n",
    "ax = plt.subplot(111)\n",
    "stats.probplot(df.citperyear13**0.5, dist=stats.expon, sparams=1.0, plot=ax)\n",
    "plt.show()"
   ]
  },
  {
   "cell_type": "markdown",
   "metadata": {},
   "source": [
    "## Citations and Age"
   ]
  },
  {
   "cell_type": "code",
   "execution_count": 8,
   "metadata": {},
   "outputs": [
    {
     "name": "stdout",
     "output_type": "stream",
     "text": [
      "slope: 0.03383062665247128\n",
      "intercept: 8.396234644794568\n",
      "r 0.029228386522290237\n",
      "pvalue 0.12157561478012142\n",
      "[-0.008985684829031844, 0.07664693813397441]\n"
     ]
    }
   ],
   "source": [
    "slope, intercept, r_value, p_value, std_err = stats.linregress(df[\"Age\"],df[\"citperyear13\"])\n",
    "\n",
    "confidence_interval = 1.96*std_err\n",
    "print(\"slope:\", slope)\n",
    "print(\"intercept:\", intercept)\n",
    "print(\"r\", r_value)\n",
    "print(\"pvalue\", p_value)\n",
    "print([slope-confidence_interval, slope+confidence_interval])"
   ]
  },
  {
   "cell_type": "code",
   "execution_count": null,
   "metadata": {},
   "outputs": [],
   "source": []
  },
  {
   "cell_type": "code",
   "execution_count": 9,
   "metadata": {},
   "outputs": [],
   "source": [
    "x = np.linspace(0,70,1000)\n",
    "y = slope*x + intercept"
   ]
  },
  {
   "cell_type": "code",
   "execution_count": 10,
   "metadata": {},
   "outputs": [
    {
     "data": {
      "text/plain": [
       "Text(0, 0.5, 'Citations/Year^1.3')"
      ]
     },
     "execution_count": 10,
     "metadata": {},
     "output_type": "execute_result"
    },
    {
     "data": {
      "image/png": "[encoded data removed]",
      "text/plain": [
       "<Figure size 720x360 with 1 Axes>"
      ]
     },
     "metadata": {
      "needs_background": "light"
     },
     "output_type": "display_data"
    }
   ],
   "source": [
    "plt.scatter(df[\"Age\"],df[\"citperyear13\"])\n",
    "plt.plot(x,y,color='red')\n",
    "plt.title(\"Citations/Year^1.3 vs Year\")\n",
    "plt.xlabel(\"Year\")\n",
    "plt.ylabel(\"Citations/Year^1.3\")"
   ]
  },
  {
   "cell_type": "markdown",
   "metadata": {},
   "source": [
    "## Hasse Linear Models is in RMarkdown"
   ]
  },
  {
   "cell_type": "markdown",
   "metadata": {},
   "source": [
    "## Field Means and Medians"
   ]
  },
  {
   "cell_type": "code",
   "execution_count": 11,
   "metadata": {},
   "outputs": [
    {
     "data": {
      "text/plain": [
       "                 Major field         \n",
       "mean  Citations  PDE                     1472.069892\n",
       "                 Computer Science        1260.444444\n",
       "                 Probability             1165.919708\n",
       "                 Harmonic analysis       1120.015000\n",
       "                 Combinatorics           1023.241379\n",
       "                 Analysis                 977.177778\n",
       "                 Algebra                  934.422727\n",
       "                 Geometry                 890.684887\n",
       "                 Algebraic Geometry       846.621302\n",
       "                 Number theory            742.660377\n",
       "                 Group theory             686.382716\n",
       "                 Applied Math             646.602007\n",
       "                 Mathematical Physics     643.010417\n",
       "                 Logic                    634.000000\n",
       "                 Complex Analysis         612.860870\n",
       "                 Dynamics                 560.441176\n",
       "                 Lie Groups               512.023256\n",
       "                 Statistics               220.734940\n",
       "                 History                   74.000000\n",
       "                 Other                      5.000000\n",
       "dtype: float64"
      ]
     },
     "execution_count": 11,
     "metadata": {},
     "output_type": "execute_result"
    }
   ],
   "source": [
    "field = pd.pivot_table(df,index=[\"Major field\"],values=[\"Citations\"],aggfunc=[np.mean])\n",
    "# change to median\n",
    "field.unstack().sort_values(ascending=False)"
   ]
  },
  {
   "cell_type": "code",
   "execution_count": 12,
   "metadata": {},
   "outputs": [
    {
     "data": {
      "text/plain": [
       "                    Major field         \n",
       "mean  citperyear13  PDE                     14.576598\n",
       "                    Computer Science        14.080446\n",
       "                    Probability             12.062677\n",
       "                    Harmonic analysis       10.514860\n",
       "                    Combinatorics           10.084229\n",
       "                    Algebraic Geometry       9.509696\n",
       "                    Algebra                  9.116993\n",
       "                    Geometry                 8.868060\n",
       "                    Number theory            7.382772\n",
       "                    Dynamics                 7.326294\n",
       "                    Mathematical Physics     7.248634\n",
       "                    Analysis                 7.148419\n",
       "                    Applied Math             6.870968\n",
       "                    Group theory             6.737234\n",
       "                    Logic                    6.317548\n",
       "                    Complex Analysis         6.170996\n",
       "                    Lie Groups               4.780825\n",
       "                    Statistics               3.104116\n",
       "                    History                  0.676970\n",
       "                    Other                    0.074356\n",
       "dtype: float64"
      ]
     },
     "execution_count": 12,
     "metadata": {},
     "output_type": "execute_result"
    }
   ],
   "source": [
    "field = pd.pivot_table(df,index=[\"Major field\"],values=[\"citperyear13\"],aggfunc=[np.mean])\n",
    "\n",
    "field.unstack().sort_values(ascending=False)"
   ]
  },
  {
   "cell_type": "code",
   "execution_count": 13,
   "metadata": {},
   "outputs": [
    {
     "data": {
      "text/plain": [
       "                   Major field         \n",
       "len  citperyear13  PDE                     372.0\n",
       "                   Geometry                311.0\n",
       "                   Applied Math            299.0\n",
       "                   Computer Science        225.0\n",
       "                   Algebra                 220.0\n",
       "                   Harmonic analysis       200.0\n",
       "                   Algebraic Geometry      169.0\n",
       "                   Number theory           159.0\n",
       "                   Probability             137.0\n",
       "                   Combinatorics           116.0\n",
       "                   Complex Analysis        115.0\n",
       "                   Mathematical Physics     96.0\n",
       "                   Statistics               83.0\n",
       "                   Group theory             81.0\n",
       "                   Dynamics                 68.0\n",
       "                   Logic                    55.0\n",
       "                   Analysis                 45.0\n",
       "                   Lie Groups               43.0\n",
       "                   Other                    11.0\n",
       "                   History                   2.0\n",
       "dtype: float64"
      ]
     },
     "execution_count": 13,
     "metadata": {},
     "output_type": "execute_result"
    }
   ],
   "source": [
    "count = pd.pivot_table(df,index=[\"Major field\"],values=[\"citperyear13\"],aggfunc=[len])\n",
    "count.unstack().sort_values(ascending=False)[:30]"
   ]
  },
  {
   "cell_type": "code",
   "execution_count": 14,
   "metadata": {},
   "outputs": [],
   "source": [
    "PDE = df[df[\"Major field\"]==\"PDE\"][\"citperyear13\"].values\n",
    "CS = df[df[\"Major field\"]==\"Computer Science\"][\"citperyear13\"].values\n",
    "Probability = df[df[\"Major field\"]==\"Probability\"][\"citperyear13\"].values\n",
    "Harmonic_Analysis = df[df[\"Major field\"]==\"Harmonic analysis\"][\"citperyear13\"].values\n",
    "Comb = df[df[\"Major field\"]==\"Combinatorics\"][\"citperyear13\"].values\n",
    "Algebra = df[df[\"Major field\"]==\"Algebra\"][\"citperyear13\"].values\n",
    "Alg_Geometry = df[df[\"Major field\"]==\"Algebraic Geometry\"][\"citperyear13\"].values\n",
    "Geometry = df[df[\"Major field\"]==\"Geometry\"][\"citperyear13\"].values\n",
    "Number_Theory = df[df[\"Major field\"]==\"Number theory\"][\"citperyear13\"].values\n",
    "Dynamics = df[df[\"Major field\"]==\"Dynamics\"][\"citperyear13\"].values\n",
    "M_Physics = df[df[\"Major field\"]==\"Mathematical Physics\"][\"citperyear13\"].values\n",
    "Analysis = df[df[\"Major field\"]==\"Analysis\"][\"citperyear13\"].values\n",
    "Applied_Math = df[df[\"Major field\"]==\"Applied Math\"][\"citperyear13\"].values\n",
    "Groups = df[df[\"Major field\"]==\"Group theory\"][\"citperyear13\"].values\n",
    "Logic = df[df[\"Major field\"]==\"Logic\"][\"citperyear13\"].values\n",
    "Complex_Analysis = df[df[\"Major field\"]==\"Complex Analysis\"][\"citperyear13\"].values\n",
    "Lie_Groups = df[df[\"Major field\"]==\"Lie Groups\"][\"citperyear13\"].values\n",
    "Statistics = df[df[\"Major field\"]==\"Statistics\"][\"citperyear13\"].values\n",
    "History = df[df[\"Major field\"]==\"History\"][\"citperyear13\"].values\n",
    "Other = df[df[\"Major field\"]==\"Other\"][\"citperyear13\"].values\n",
    "\n",
    "L = [(\"PDE\",PDE),(\"CS\",CS),(\"Prob\",Probability), (\"HA\",Harmonic_Analysis), (\"C\",Comb), (\"Alg\",Algebra)\n",
    "     ,(\"AG\",Alg_Geometry), (\"GEOM\",Geometry), (\"NT\",Number_Theory),\n",
    "    (\"Dyn\",Dynamics), (\"MP\",M_Physics), (\"An\",Analysis), (\"Applied\",Applied_Math), (\"GT\",Groups)\n",
    "     , (\"Log\",Logic), (\"CA\",Complex_Analysis), (\"LG\",Lie_Groups), (\"Stat\",Statistics),\n",
    "    (\"Hist\",History), (\"Oth\",Other)]"
   ]
  },
  {
   "cell_type": "code",
   "execution_count": 15,
   "metadata": {},
   "outputs": [],
   "source": [
    "def run_permutation_test(pooled,sizeZ,sizeY):\n",
    "    np.random.shuffle(pooled)\n",
    "    starZ = pooled[:sizeZ]\n",
    "    starY = pooled[-sizeY:]\n",
    "    return starY.mean() - starZ.mean()\n",
    "def check(list1): \n",
    "    count = 0\n",
    "    for x in list1: \n",
    "        if x<= delta: \n",
    "            count +=1\n",
    "    return count/len(list1)"
   ]
  },
  {
   "cell_type": "code",
   "execution_count": 16,
   "metadata": {},
   "outputs": [
    {
     "name": "stdout",
     "output_type": "stream",
     "text": [
      "Fail to Reject Null: PDE >= CS p-value: 0.397\n",
      "Fail to Reject Null: PDE >= Prob p-value: 0.0768\n",
      "Fail to Reject Null: CS >= Prob p-value: 0.156\n",
      "Fail to Reject Null: Prob >= HA p-value: 0.113\n",
      "Fail to Reject Null: Prob >= C p-value: 0.1049\n",
      "Fail to Reject Null: HA >= C p-value: 0.3824\n",
      "Fail to Reject Null: HA >= Alg p-value: 0.0961\n",
      "Fail to Reject Null: HA >= AG p-value: 0.1807\n",
      "Fail to Reject Null: C >= Alg p-value: 0.2181\n",
      "Fail to Reject Null: C >= AG p-value: 0.3265\n",
      "Fail to Reject Null: C >= GEOM p-value: 0.1544\n",
      "Fail to Reject Null: C >= An p-value: 0.0719\n",
      "Fail to Reject Null: Alg >= AG p-value: 0.6461\n",
      "Fail to Reject Null: Alg >= GEOM p-value: 0.3989\n",
      "Fail to Reject Null: Alg >= Dyn p-value: 0.0813\n",
      "Fail to Reject Null: Alg >= MP p-value: 0.0546\n",
      "Fail to Reject Null: Alg >= An p-value: 0.1232\n",
      "Fail to Reject Null: AG >= GEOM p-value: 0.2533\n",
      "Fail to Reject Null: AG >= An p-value: 0.0782\n",
      "Fail to Reject Null: GEOM >= NT p-value: 0.0534\n",
      "Fail to Reject Null: GEOM >= Dyn p-value: 0.1076\n",
      "Fail to Reject Null: GEOM >= MP p-value: 0.0704\n",
      "Fail to Reject Null: GEOM >= An p-value: 0.1497\n",
      "Fail to Reject Null: NT >= Dyn p-value: 0.4906\n",
      "Fail to Reject Null: NT >= MP p-value: 0.4514\n",
      "Fail to Reject Null: NT >= An p-value: 0.4417\n",
      "Fail to Reject Null: NT >= Applied p-value: 0.2717\n",
      "Fail to Reject Null: NT >= GT p-value: 0.2637\n",
      "Fail to Reject Null: NT >= Log p-value: 0.1557\n",
      "Fail to Reject Null: NT >= CA p-value: 0.0717\n",
      "Fail to Reject Null: Dyn >= MP p-value: 0.4614\n",
      "Fail to Reject Null: Dyn >= An p-value: 0.4609\n",
      "Fail to Reject Null: Dyn >= Applied p-value: 0.3377\n",
      "Fail to Reject Null: Dyn >= GT p-value: 0.2999\n",
      "Fail to Reject Null: Dyn >= Log p-value: 0.1738\n",
      "Fail to Reject Null: Dyn >= CA p-value: 0.1272\n",
      "Fail to Reject Null: MP >= An p-value: 0.4916\n",
      "Fail to Reject Null: MP >= Applied p-value: 0.3506\n",
      "Fail to Reject Null: MP >= GT p-value: 0.337\n",
      "Fail to Reject Null: MP >= Log p-value: 0.23\n",
      "Fail to Reject Null: MP >= CA p-value: 0.1423\n",
      "Fail to Reject Null: MP >= Hist p-value: 0.0525\n",
      "Fail to Reject Null: An >= Applied p-value: 0.4035\n",
      "Fail to Reject Null: An >= GT p-value: 0.3972\n",
      "Fail to Reject Null: An >= Log p-value: 0.3154\n",
      "Fail to Reject Null: An >= CA p-value: 0.2375\n",
      "Fail to Reject Null: An >= LG p-value: 0.1041\n",
      "Fail to Reject Null: An >= Hist p-value: 0.0881\n",
      "Fail to Reject Null: Applied >= GT p-value: 0.4655\n",
      "Fail to Reject Null: Applied >= Log p-value: 0.3609\n",
      "Fail to Reject Null: Applied >= CA p-value: 0.2362\n",
      "Fail to Reject Null: Applied >= LG p-value: 0.0616\n",
      "Fail to Reject Null: Applied >= Hist p-value: 0.0534\n",
      "Fail to Reject Null: GT >= Log p-value: 0.3728\n",
      "Fail to Reject Null: GT >= CA p-value: 0.2834\n",
      "Fail to Reject Null: GT >= LG p-value: 0.0513\n",
      "Fail to Reject Null: Log >= CA p-value: 0.4276\n",
      "Fail to Reject Null: Log >= LG p-value: 0.0613\n",
      "Fail to Reject Null: CA >= LG p-value: 0.0871\n",
      "Fail to Reject Null: LG >= Hist p-value: 0.0531\n",
      "Fail to Reject Null: Stat >= Hist p-value: 0.2517\n",
      "Fail to Reject Null: Hist >= Oth p-value: 0.1533\n"
     ]
    }
   ],
   "source": [
    "#H0 Z = Y\n",
    "#H1 Z > Y\n",
    "done = []\n",
    "for z in L:\n",
    "    done.append(z)\n",
    "    for y in L:\n",
    "        if y not in done:\n",
    "            np.random.seed(0)\n",
    "            pooled = np.hstack([z[1],y[1]])\n",
    "            delta = y[1].mean() - z[1].mean()\n",
    "            numSamples = 10000\n",
    "            l=[]\n",
    "            for i in range(numSamples):\n",
    "                x = run_permutation_test(pooled,z[1].size,y[1].size)\n",
    "                l.append(x)\n",
    "            if check(l) > 0.05:\n",
    "                print(\"Fail to Reject Null:\", z[0], \">=\", y[0], \"p-value:\", check(l))"
   ]
  },
  {
   "cell_type": "markdown",
   "metadata": {},
   "source": [
    "## Variability Hypothesis"
   ]
  },
  {
   "cell_type": "code",
   "execution_count": 17,
   "metadata": {},
   "outputs": [
    {
     "name": "stdout",
     "output_type": "stream",
     "text": [
      "931.9597434983968\n",
      "1500.2868283479086\n"
     ]
    }
   ],
   "source": [
    "print(np.mean(df.Citations))\n",
    "print(np.std(df.Citations))"
   ]
  },
  {
   "cell_type": "code",
   "execution_count": 18,
   "metadata": {},
   "outputs": [
    {
     "name": "stdout",
     "output_type": "stream",
     "text": [
      "Female Mean 475.7096774193548\n",
      "Female Variance 511979.92861602537\n",
      "Male Mean 988.6027232679215\n",
      "Male Variance 2437689.032399479\n"
     ]
    }
   ],
   "source": [
    "Females = df[df.Gender == \"Female\"]\n",
    "Males = df[df.Gender == \"Male\"]\n",
    "print(\"Female Mean\", np.mean(Females.Citations))\n",
    "print(\"Female Variance\", np.var(Females.Citations))\n",
    "print(\"Male Mean\", np.mean(Males.Citations))\n",
    "print(\"Male Variance\", np.var(Males.Citations))"
   ]
  },
  {
   "cell_type": "code",
   "execution_count": 19,
   "metadata": {},
   "outputs": [
    {
     "name": "stdout",
     "output_type": "stream",
     "text": [
      "Female Mean 6.185259695940214\n",
      "Female Variance 61.87624234454585\n",
      "Male Mean 9.924544583298573\n",
      "Male Variance 177.20499362227673\n"
     ]
    }
   ],
   "source": [
    "print(\"Female Mean\", np.mean(Females.citperyear13))\n",
    "print(\"Female Variance\", np.var(Females.citperyear13))\n",
    "print(\"Male Mean\", np.mean(Males.citperyear13))\n",
    "print(\"Male Variance\", np.var(Males.citperyear13))"
   ]
  },
  {
   "cell_type": "code",
   "execution_count": 20,
   "metadata": {},
   "outputs": [
    {
     "data": {
      "text/plain": [
       "Text(0, 0.5, 'Count')"
      ]
     },
     "execution_count": 20,
     "metadata": {},
     "output_type": "execute_result"
    },
    {
     "data": {
      "image/png": "[encoded data removed]",
      "text/plain": [
       "<Figure size 720x360 with 1 Axes>"
      ]
     },
     "metadata": {
      "needs_background": "light"
     },
     "output_type": "display_data"
    }
   ],
   "source": [
    "plt.hist(np.log(Females[Females.citperyear13>0].citperyear13),bins=[-6,-5,-4,-3,-2,-1,0,1,2,3,4,5,6])\n",
    "plt.title(\"Histogram of Females\")\n",
    "plt.xlabel(\"Cit/Year^1.3\")\n",
    "plt.ylabel(\"Count\")"
   ]
  },
  {
   "cell_type": "code",
   "execution_count": 21,
   "metadata": {},
   "outputs": [
    {
     "data": {
      "text/plain": [
       "Text(0, 0.5, 'Count')"
      ]
     },
     "execution_count": 21,
     "metadata": {},
     "output_type": "execute_result"
    },
    {
     "data": {
      "image/png": "[encoded data removed]",
      "text/plain": [
       "<Figure size 720x360 with 1 Axes>"
      ]
     },
     "metadata": {
      "needs_background": "light"
     },
     "output_type": "display_data"
    }
   ],
   "source": [
    "plt.hist(np.log(Males[Males.citperyear13>0].citperyear13),bins=[-6,-5,-4,-3,-2,-1,0,1,2,3,4,5,6])\n",
    "plt.title(\"Histogram of Males\")\n",
    "plt.xlabel(\"Cit/Year^1.3\")\n",
    "plt.ylabel(\"Count\")"
   ]
  },
  {
   "cell_type": "markdown",
   "metadata": {},
   "source": [
    "# permutation test"
   ]
  },
  {
   "cell_type": "code",
   "execution_count": 22,
   "metadata": {},
   "outputs": [],
   "source": [
    "FieldNames = [\"PDE\",\"Computer Science\",\"Probability\",\"Harmonic analysis\",\"Combinatorics\",\"Algebra\"\n",
    "              ,\"Algebraic Geometry\",\"Geometry\",\"Number theory\",\"Dynamics\",\"Mathematical Physics\"\n",
    "              ,\"Analysis\",\"Applied Math\",\"Group theory\",\"Logic\",\"Complex Analysis\",\"Lie Groups\"\n",
    "              ,\"Statistics\",\"History\",\"Other\"]"
   ]
  },
  {
   "cell_type": "code",
   "execution_count": 23,
   "metadata": {},
   "outputs": [
    {
     "name": "stdout",
     "output_type": "stream",
     "text": [
      "PDE  - Reject Null: p-value: 0.0066\n",
      "Computer Science  - Reject Null: p-value: 0.0346\n",
      "Probability  - Reject Null: p-value: 0.0035\n",
      "Harmonic analysis  - Fail to Reject Null: p-value: 0.2648\n",
      "Combinatorics  - Fail to Reject Null: p-value: 0.2133\n",
      "Algebra  - Reject Null: p-value: 0.0287\n",
      "Algebraic Geometry  - Reject Null: p-value: 0.0459\n",
      "Geometry  - Reject Null: p-value: 0.0096\n",
      "Number theory  - Reject Null: p-value: 0.0092\n",
      "Dynamics  - Fail to Reject Null: p-value: 0.145\n",
      "Mathematical Physics  - Fail to Reject Null: p-value: 0.8623\n",
      "Analysis  - Reject Null: p-value: 0.0074\n",
      "Applied Math  - Fail to Reject Null: p-value: 0.1121\n",
      "Group theory  - Fail to Reject Null: p-value: 0.1791\n",
      "Logic  - Fail to Reject Null: p-value: 0.0755\n",
      "Complex Analysis  - Reject Null: p-value: 0.0093\n",
      "Lie Groups  - Fail to Reject Null: p-value: 0.128\n",
      "Statistics  - Fail to Reject Null: p-value: 0.0589\n",
      "History  - Fail to Reject Null: p-value: 1.0\n",
      "Other  - Fail to Reject Null: p-value: 0.1849\n"
     ]
    }
   ],
   "source": [
    "#H0 Z = Y\n",
    "#H1 Z > Y\n",
    "for x in FieldNames:\n",
    "    M = df[(df[\"Major field\"]==x)&(df[\"Gender\"]==\"Male\")][\"citperyear13\"].values\n",
    "    F = df[(df[\"Major field\"]==x)&(df[\"Gender\"]==\"Female\")][\"citperyear13\"].values\n",
    "    np.random.seed(0)\n",
    "    pooled = np.hstack([M,F])\n",
    "    delta = F.mean() - M.mean()\n",
    "    numSamples = 10000\n",
    "    l=[]\n",
    "    for i in range(numSamples):\n",
    "        y = run_permutation_test(pooled,M.size,F.size)\n",
    "        l.append(y)\n",
    "    if check(l) > 0.05:\n",
    "        print(x,\" - Fail to Reject Null:\", \"p-value:\", check(l))\n",
    "    else:\n",
    "        print(x, \" - Reject Null:\",  \"p-value:\", check(l))"
   ]
  },
  {
   "cell_type": "code",
   "execution_count": 24,
   "metadata": {},
   "outputs": [
    {
     "data": {
      "text/plain": [
       "                    Major field         \n",
       "mean  citperyear13  PDE                     15.303093\n",
       "                    Computer Science        14.778782\n",
       "                    Probability             12.834559\n",
       "                    Harmonic analysis       10.669366\n",
       "                    Combinatorics           10.430640\n",
       "                    Algebraic Geometry       9.819881\n",
       "                    Algebra                  9.560960\n",
       "                    Geometry                 9.255244\n",
       "                    Analysis                 7.935402\n",
       "                    Number theory            7.679638\n",
       "                    Dynamics                 7.636188\n",
       "                    Applied Math             7.161173\n",
       "                    Group theory             6.968285\n",
       "                    Mathematical Physics     6.958035\n",
       "                    Logic                    6.573246\n",
       "                    Complex Analysis         6.459399\n",
       "                    Lie Groups               5.083902\n",
       "                    Statistics               3.389265\n",
       "                    Other                    0.088086\n",
       "                    History                  0.000000\n",
       "dtype: float64"
      ]
     },
     "execution_count": 24,
     "metadata": {},
     "output_type": "execute_result"
    }
   ],
   "source": [
    "field = pd.pivot_table(Males,index=[\"Major field\"],values=[\"citperyear13\"],aggfunc=[np.mean])\n",
    "\n",
    "field.unstack().sort_values(ascending=False)"
   ]
  },
  {
   "cell_type": "code",
   "execution_count": 25,
   "metadata": {},
   "outputs": [
    {
     "data": {
      "text/plain": [
       "                   Major field         \n",
       "len  citperyear13  PDE                     327.0\n",
       "                   Geometry                279.0\n",
       "                   Applied Math            250.0\n",
       "                   Computer Science        200.0\n",
       "                   Algebra                 192.0\n",
       "                   Harmonic analysis       183.0\n",
       "                   Algebraic Geometry      156.0\n",
       "                   Number theory           147.0\n",
       "                   Probability             124.0\n",
       "                   Complex Analysis        107.0\n",
       "                   Combinatorics           101.0\n",
       "                   Mathematical Physics     88.0\n",
       "                   Group theory             74.0\n",
       "                   Statistics               72.0\n",
       "                   Dynamics                 59.0\n",
       "                   Logic                    51.0\n",
       "                   Analysis                 40.0\n",
       "                   Lie Groups               37.0\n",
       "                   Other                     9.0\n",
       "                   History                   1.0\n",
       "dtype: float64"
      ]
     },
     "execution_count": 25,
     "metadata": {},
     "output_type": "execute_result"
    }
   ],
   "source": [
    "field = pd.pivot_table(Males,index=[\"Major field\"],values=[\"citperyear13\"],aggfunc=[len])\n",
    "\n",
    "field.unstack().sort_values(ascending=False)"
   ]
  },
  {
   "cell_type": "code",
   "execution_count": 26,
   "metadata": {},
   "outputs": [
    {
     "data": {
      "text/plain": [
       "                    Major field         \n",
       "mean  citperyear13  Mathematical Physics    10.445227\n",
       "                    PDE                      9.297398\n",
       "                    Harmonic analysis        8.851647\n",
       "                    Computer Science         8.493759\n",
       "                    Combinatorics            7.751730\n",
       "                    Algebra                  6.072650\n",
       "                    Algebraic Geometry       5.787476\n",
       "                    Geometry                 5.492292\n",
       "                    Applied Math             5.390328\n",
       "                    Dynamics                 5.294767\n",
       "                    Probability              4.700109\n",
       "                    Group theory             4.294694\n",
       "                    Number theory            3.746161\n",
       "                    Logic                    3.057404\n",
       "                    Lie Groups               2.911850\n",
       "                    Complex Analysis         2.313612\n",
       "                    History                  1.353940\n",
       "                    Statistics               1.237687\n",
       "                    Analysis                 0.852551\n",
       "                    Other                    0.012571\n",
       "dtype: float64"
      ]
     },
     "execution_count": 26,
     "metadata": {},
     "output_type": "execute_result"
    }
   ],
   "source": [
    "field = pd.pivot_table(Females,index=[\"Major field\"],values=[\"citperyear13\"],aggfunc=[np.mean])\n",
    "\n",
    "field.unstack().sort_values(ascending=False)"
   ]
  },
  {
   "cell_type": "code",
   "execution_count": 27,
   "metadata": {},
   "outputs": [
    {
     "data": {
      "text/plain": [
       "                   Major field         \n",
       "len  citperyear13  Applied Math            49.0\n",
       "                   PDE                     45.0\n",
       "                   Geometry                32.0\n",
       "                   Algebra                 28.0\n",
       "                   Computer Science        25.0\n",
       "                   Harmonic analysis       17.0\n",
       "                   Combinatorics           15.0\n",
       "                   Probability             13.0\n",
       "                   Algebraic Geometry      13.0\n",
       "                   Number theory           12.0\n",
       "                   Statistics              11.0\n",
       "                   Dynamics                 9.0\n",
       "                   Complex Analysis         8.0\n",
       "                   Mathematical Physics     8.0\n",
       "                   Group theory             7.0\n",
       "                   Lie Groups               6.0\n",
       "                   Analysis                 5.0\n",
       "                   Logic                    4.0\n",
       "                   Other                    2.0\n",
       "                   History                  1.0\n",
       "dtype: float64"
      ]
     },
     "execution_count": 27,
     "metadata": {},
     "output_type": "execute_result"
    }
   ],
   "source": [
    "field = pd.pivot_table(Females,index=[\"Major field\"],values=[\"citperyear13\"],aggfunc=[len])\n",
    "\n",
    "field.unstack().sort_values(ascending=False)"
   ]
  },
  {
   "cell_type": "markdown",
   "metadata": {},
   "source": [
    " It would be nonsense to compare variance using a permutation test. The fact is that if you subsample from a larger population, the subsample will be larger\n"
   ]
  },
  {
   "cell_type": "markdown",
   "metadata": {},
   "source": [
    "# Interfield Z-scores"
   ]
  },
  {
   "cell_type": "code",
   "execution_count": 28,
   "metadata": {},
   "outputs": [
    {
     "data": {
      "text/html": [
       "<div>\n",
       "<style scoped>\n",
       "    .dataframe tbody tr th:only-of-type {\n",
       "        vertical-align: middle;\n",
       "    }\n",
       "\n",
       "    .dataframe tbody tr th {\n",
       "        vertical-align: top;\n",
       "    }\n",
       "\n",
       "    .dataframe thead th {\n",
       "        text-align: right;\n",
       "    }\n",
       "</style>\n",
       "<table border=\"1\" class=\"dataframe\">\n",
       "  <thead>\n",
       "    <tr style=\"text-align: right;\">\n",
       "      <th></th>\n",
       "      <th>School</th>\n",
       "      <th>Gender</th>\n",
       "      <th>Role</th>\n",
       "      <th>Citations</th>\n",
       "      <th>Earliest_Pub</th>\n",
       "      <th>Field_1</th>\n",
       "      <th>Field_2</th>\n",
       "      <th>Major field</th>\n",
       "      <th>Age</th>\n",
       "      <th>citperyear</th>\n",
       "      <th>citperyear13</th>\n",
       "      <th>zscore</th>\n",
       "    </tr>\n",
       "  </thead>\n",
       "  <tbody>\n",
       "    <tr>\n",
       "      <td>33</td>\n",
       "      <td>Auburn University</td>\n",
       "      <td>Male</td>\n",
       "      <td>Professor</td>\n",
       "      <td>105</td>\n",
       "      <td>1976</td>\n",
       "      <td>Linear and multilinear algebra; matrix theory</td>\n",
       "      <td>NaN</td>\n",
       "      <td>Algebra</td>\n",
       "      <td>44</td>\n",
       "      <td>2.386364</td>\n",
       "      <td>0.766833</td>\n",
       "      <td>-0.808969</td>\n",
       "    </tr>\n",
       "    <tr>\n",
       "      <td>49</td>\n",
       "      <td>Auburn University</td>\n",
       "      <td>Male</td>\n",
       "      <td>Professor</td>\n",
       "      <td>1734</td>\n",
       "      <td>1981</td>\n",
       "      <td>Associative rings and algebras</td>\n",
       "      <td>NaN</td>\n",
       "      <td>Algebra</td>\n",
       "      <td>39</td>\n",
       "      <td>44.461538</td>\n",
       "      <td>14.813753</td>\n",
       "      <td>0.551906</td>\n",
       "    </tr>\n",
       "    <tr>\n",
       "      <td>54</td>\n",
       "      <td>Binghamton University</td>\n",
       "      <td>Male</td>\n",
       "      <td>Professor</td>\n",
       "      <td>280</td>\n",
       "      <td>1977</td>\n",
       "      <td>Nonassociative rings and algebras</td>\n",
       "      <td>NaN</td>\n",
       "      <td>Algebra</td>\n",
       "      <td>43</td>\n",
       "      <td>6.511628</td>\n",
       "      <td>2.106925</td>\n",
       "      <td>-0.679140</td>\n",
       "    </tr>\n",
       "    <tr>\n",
       "      <td>100</td>\n",
       "      <td>Brandeis University</td>\n",
       "      <td>Male</td>\n",
       "      <td>Professor</td>\n",
       "      <td>629</td>\n",
       "      <td>1979</td>\n",
       "      <td>Associative rings and algebras</td>\n",
       "      <td>NaN</td>\n",
       "      <td>Algebra</td>\n",
       "      <td>41</td>\n",
       "      <td>15.341463</td>\n",
       "      <td>5.035373</td>\n",
       "      <td>-0.395430</td>\n",
       "    </tr>\n",
       "    <tr>\n",
       "      <td>112</td>\n",
       "      <td>Brown University</td>\n",
       "      <td>Male</td>\n",
       "      <td>Professor</td>\n",
       "      <td>190</td>\n",
       "      <td>1991</td>\n",
       "      <td>Algebraic topology</td>\n",
       "      <td>NaN</td>\n",
       "      <td>Algebra</td>\n",
       "      <td>29</td>\n",
       "      <td>6.551724</td>\n",
       "      <td>2.385812</td>\n",
       "      <td>-0.652121</td>\n",
       "    </tr>\n",
       "  </tbody>\n",
       "</table>\n",
       "</div>"
      ],
      "text/plain": [
       "                    School Gender       Role  Citations  Earliest_Pub  \\\n",
       "33       Auburn University   Male  Professor        105          1976   \n",
       "49       Auburn University   Male  Professor       1734          1981   \n",
       "54   Binghamton University   Male  Professor        280          1977   \n",
       "100    Brandeis University   Male  Professor        629          1979   \n",
       "112       Brown University   Male  Professor        190          1991   \n",
       "\n",
       "                                           Field_1 Field_2 Major field  Age  \\\n",
       "33   Linear and multilinear algebra; matrix theory     NaN     Algebra   44   \n",
       "49                  Associative rings and algebras     NaN     Algebra   39   \n",
       "54               Nonassociative rings and algebras     NaN     Algebra   43   \n",
       "100                 Associative rings and algebras     NaN     Algebra   41   \n",
       "112                             Algebraic topology     NaN     Algebra   29   \n",
       "\n",
       "     citperyear  citperyear13    zscore  \n",
       "33     2.386364      0.766833 -0.808969  \n",
       "49    44.461538     14.813753  0.551906  \n",
       "54     6.511628      2.106925 -0.679140  \n",
       "100   15.341463      5.035373 -0.395430  \n",
       "112    6.551724      2.385812 -0.652121  "
      ]
     },
     "execution_count": 28,
     "metadata": {},
     "output_type": "execute_result"
    }
   ],
   "source": [
    "dflist = []\n",
    "for i, j in df.groupby('Major field'):\n",
    "    #display(j)\n",
    "    ss = StandardScaler()\n",
    "    newcol = ss.fit_transform(j[['citperyear13']])\n",
    "    newercol = pd.DataFrame(newcol, columns = ['zscore'], index=j.index)\n",
    "    #display(newercol)\n",
    "    #display(newercol.info())\n",
    "    newdf = pd.concat([j, newercol], axis=1)\n",
    "    dflist.append(newdf)\n",
    "standardized = pd.concat(dflist)\n",
    "standardized.head()"
   ]
  },
  {
   "cell_type": "code",
   "execution_count": 29,
   "metadata": {},
   "outputs": [
    {
     "name": "stdout",
     "output_type": "stream",
     "text": [
      "Algebra 1.0000000000000002\n",
      "Algebraic Geometry 0.9999999999999999\n",
      "Analysis 1.0\n",
      "Applied Math 0.9999999999999996\n",
      "Combinatorics 0.9999999999999998\n",
      "Complex Analysis 1.0000000000000002\n",
      "Computer Science 0.9999999999999996\n",
      "Dynamics 1.0\n",
      "Geometry 1.0\n",
      "Group theory 0.9999999999999998\n",
      "Harmonic analysis 0.9999999999999998\n",
      "History 1.0\n",
      "Lie Groups 0.9999999999999998\n",
      "Logic 1.0\n",
      "Mathematical Physics 1.0000000000000004\n",
      "Number theory 0.9999999999999997\n",
      "Other 0.9999999999999999\n",
      "PDE 0.9999999999999997\n",
      "Probability 1.0\n",
      "Statistics 1.0\n"
     ]
    }
   ],
   "source": [
    "# sanity check. All sd are same\n",
    "for x in standardized[\"Major field\"].unique():\n",
    "    fjj = standardized[standardized[\"Major field\"] == x][\"zscore\"]\n",
    "    print(x, np.std(fjj))"
   ]
  },
  {
   "cell_type": "code",
   "execution_count": 30,
   "metadata": {},
   "outputs": [
    {
     "data": {
      "text/plain": [
       "Text(0.5, 1.0, 'Boxplot of Z-scores vs Gender')"
      ]
     },
     "execution_count": 30,
     "metadata": {},
     "output_type": "execute_result"
    },
    {
     "data": {
      "image/png": "[encoded data removed]",
      "text/plain": [
       "<Figure size 720x360 with 1 Axes>"
      ]
     },
     "metadata": {
      "needs_background": "light"
     },
     "output_type": "display_data"
    }
   ],
   "source": [
    "sns.boxplot(x=\"Gender\", y=\"zscore\", data = standardized)\n",
    "plt.title(\"Boxplot of Z-scores vs Gender\")"
   ]
  },
  {
   "cell_type": "code",
   "execution_count": 31,
   "metadata": {},
   "outputs": [
    {
     "data": {
      "text/plain": [
       "Text(0, 0.5, 'Counts')"
      ]
     },
     "execution_count": 31,
     "metadata": {},
     "output_type": "execute_result"
    },
    {
     "data": {
      "image/png": "[encoded data removed]",
      "text/plain": [
       "<Figure size 720x360 with 1 Axes>"
      ]
     },
     "metadata": {
      "needs_background": "light"
     },
     "output_type": "display_data"
    }
   ],
   "source": [
    "np.random.seed(0)\n",
    "plt.hist(standardized[standardized[\"Gender\"]==\"Male\"].zscore)\n",
    "plt.hist(standardized[standardized[\"Gender\"]==\"Female\"].zscore, color = \"red\")\n",
    "plt.title(\"Histogram of Interfield Z-scores for Women (Red) and Men (Blue)\")\n",
    "plt.xlabel(\"Value\")\n",
    "plt.ylabel(\"Counts\")"
   ]
  },
  {
   "cell_type": "code",
   "execution_count": 32,
   "metadata": {},
   "outputs": [
    {
     "data": {
      "text/plain": [
       "(array([ 89., 143.,  45.,  18.,   6.,   3.,   3.,   0.,   1.,   2.]),\n",
       " array([-1.12090172, -0.61820019, -0.11549866,  0.38720287,  0.8899044 ,\n",
       "         1.39260593,  1.89530746,  2.39800899,  2.90071052,  3.40341205,\n",
       "         3.90611358]),\n",
       " <a list of 10 Patch objects>)"
      ]
     },
     "execution_count": 32,
     "metadata": {},
     "output_type": "execute_result"
    },
    {
     "data": {
      "image/png": "[encoded data removed]",
      "text/plain": [
       "<Figure size 720x360 with 1 Axes>"
      ]
     },
     "metadata": {
      "needs_background": "light"
     },
     "output_type": "display_data"
    }
   ],
   "source": [
    "www = standardized[standardized[\"Gender\"]==\"Female\"]\n",
    "plt.hist(www.zscore)"
   ]
  },
  {
   "cell_type": "code",
   "execution_count": 33,
   "metadata": {},
   "outputs": [
    {
     "data": {
      "text/html": [
       "<div>\n",
       "<style scoped>\n",
       "    .dataframe tbody tr th:only-of-type {\n",
       "        vertical-align: middle;\n",
       "    }\n",
       "\n",
       "    .dataframe tbody tr th {\n",
       "        vertical-align: top;\n",
       "    }\n",
       "\n",
       "    .dataframe thead th {\n",
       "        text-align: right;\n",
       "    }\n",
       "</style>\n",
       "<table border=\"1\" class=\"dataframe\">\n",
       "  <thead>\n",
       "    <tr style=\"text-align: right;\">\n",
       "      <th></th>\n",
       "      <th>Citations</th>\n",
       "      <th>Earliest_Pub</th>\n",
       "      <th>Age</th>\n",
       "      <th>citperyear</th>\n",
       "      <th>citperyear13</th>\n",
       "      <th>zscore</th>\n",
       "    </tr>\n",
       "  </thead>\n",
       "  <tbody>\n",
       "    <tr>\n",
       "      <td>count</td>\n",
       "      <td>310.000000</td>\n",
       "      <td>310.000000</td>\n",
       "      <td>310.000000</td>\n",
       "      <td>310.000000</td>\n",
       "      <td>310.000000</td>\n",
       "      <td>310.000000</td>\n",
       "    </tr>\n",
       "    <tr>\n",
       "      <td>mean</td>\n",
       "      <td>475.709677</td>\n",
       "      <td>1992.116129</td>\n",
       "      <td>27.883871</td>\n",
       "      <td>16.554618</td>\n",
       "      <td>6.185260</td>\n",
       "      <td>-0.287867</td>\n",
       "    </tr>\n",
       "    <tr>\n",
       "      <td>std</td>\n",
       "      <td>716.684604</td>\n",
       "      <td>9.120165</td>\n",
       "      <td>9.120165</td>\n",
       "      <td>21.400093</td>\n",
       "      <td>7.878863</td>\n",
       "      <td>0.658736</td>\n",
       "    </tr>\n",
       "    <tr>\n",
       "      <td>min</td>\n",
       "      <td>0.000000</td>\n",
       "      <td>1967.000000</td>\n",
       "      <td>10.000000</td>\n",
       "      <td>0.000000</td>\n",
       "      <td>0.000000</td>\n",
       "      <td>-1.120902</td>\n",
       "    </tr>\n",
       "    <tr>\n",
       "      <td>25%</td>\n",
       "      <td>109.000000</td>\n",
       "      <td>1986.000000</td>\n",
       "      <td>21.000000</td>\n",
       "      <td>4.230252</td>\n",
       "      <td>1.540643</td>\n",
       "      <td>-0.643406</td>\n",
       "    </tr>\n",
       "    <tr>\n",
       "      <td>50%</td>\n",
       "      <td>240.000000</td>\n",
       "      <td>1993.000000</td>\n",
       "      <td>27.000000</td>\n",
       "      <td>9.871053</td>\n",
       "      <td>3.798123</td>\n",
       "      <td>-0.491653</td>\n",
       "    </tr>\n",
       "    <tr>\n",
       "      <td>75%</td>\n",
       "      <td>615.500000</td>\n",
       "      <td>1999.000000</td>\n",
       "      <td>34.000000</td>\n",
       "      <td>20.492857</td>\n",
       "      <td>7.649517</td>\n",
       "      <td>-0.114883</td>\n",
       "    </tr>\n",
       "    <tr>\n",
       "      <td>max</td>\n",
       "      <td>6860.000000</td>\n",
       "      <td>2010.000000</td>\n",
       "      <td>53.000000</td>\n",
       "      <td>170.031250</td>\n",
       "      <td>60.115125</td>\n",
       "      <td>3.906114</td>\n",
       "    </tr>\n",
       "  </tbody>\n",
       "</table>\n",
       "</div>"
      ],
      "text/plain": [
       "         Citations  Earliest_Pub         Age  citperyear  citperyear13  \\\n",
       "count   310.000000    310.000000  310.000000  310.000000    310.000000   \n",
       "mean    475.709677   1992.116129   27.883871   16.554618      6.185260   \n",
       "std     716.684604      9.120165    9.120165   21.400093      7.878863   \n",
       "min       0.000000   1967.000000   10.000000    0.000000      0.000000   \n",
       "25%     109.000000   1986.000000   21.000000    4.230252      1.540643   \n",
       "50%     240.000000   1993.000000   27.000000    9.871053      3.798123   \n",
       "75%     615.500000   1999.000000   34.000000   20.492857      7.649517   \n",
       "max    6860.000000   2010.000000   53.000000  170.031250     60.115125   \n",
       "\n",
       "           zscore  \n",
       "count  310.000000  \n",
       "mean    -0.287867  \n",
       "std      0.658736  \n",
       "min     -1.120902  \n",
       "25%     -0.643406  \n",
       "50%     -0.491653  \n",
       "75%     -0.114883  \n",
       "max      3.906114  "
      ]
     },
     "metadata": {},
     "output_type": "display_data"
    },
    {
     "data": {
      "text/html": [
       "<div>\n",
       "<style scoped>\n",
       "    .dataframe tbody tr th:only-of-type {\n",
       "        vertical-align: middle;\n",
       "    }\n",
       "\n",
       "    .dataframe tbody tr th {\n",
       "        vertical-align: top;\n",
       "    }\n",
       "\n",
       "    .dataframe thead th {\n",
       "        text-align: right;\n",
       "    }\n",
       "</style>\n",
       "<table border=\"1\" class=\"dataframe\">\n",
       "  <thead>\n",
       "    <tr style=\"text-align: right;\">\n",
       "      <th></th>\n",
       "      <th>Citations</th>\n",
       "      <th>Earliest_Pub</th>\n",
       "      <th>Age</th>\n",
       "      <th>citperyear</th>\n",
       "      <th>citperyear13</th>\n",
       "      <th>zscore</th>\n",
       "    </tr>\n",
       "  </thead>\n",
       "  <tbody>\n",
       "    <tr>\n",
       "      <td>count</td>\n",
       "      <td>2497.000000</td>\n",
       "      <td>2497.000000</td>\n",
       "      <td>2497.000000</td>\n",
       "      <td>2497.000000</td>\n",
       "      <td>2497.000000</td>\n",
       "      <td>2497.000000</td>\n",
       "    </tr>\n",
       "    <tr>\n",
       "      <td>mean</td>\n",
       "      <td>988.602723</td>\n",
       "      <td>1986.400080</td>\n",
       "      <td>33.599920</td>\n",
       "      <td>28.171185</td>\n",
       "      <td>9.924545</td>\n",
       "      <td>0.035738</td>\n",
       "    </tr>\n",
       "    <tr>\n",
       "      <td>std</td>\n",
       "      <td>1561.622768</td>\n",
       "      <td>11.194044</td>\n",
       "      <td>11.194044</td>\n",
       "      <td>38.461738</td>\n",
       "      <td>13.314503</td>\n",
       "      <td>1.029228</td>\n",
       "    </tr>\n",
       "    <tr>\n",
       "      <td>min</td>\n",
       "      <td>0.000000</td>\n",
       "      <td>1950.000000</td>\n",
       "      <td>7.000000</td>\n",
       "      <td>0.000000</td>\n",
       "      <td>0.000000</td>\n",
       "      <td>-1.160355</td>\n",
       "    </tr>\n",
       "    <tr>\n",
       "      <td>25%</td>\n",
       "      <td>215.000000</td>\n",
       "      <td>1979.000000</td>\n",
       "      <td>25.000000</td>\n",
       "      <td>7.176471</td>\n",
       "      <td>2.589171</td>\n",
       "      <td>-0.592701</td>\n",
       "    </tr>\n",
       "    <tr>\n",
       "      <td>50%</td>\n",
       "      <td>501.000000</td>\n",
       "      <td>1987.000000</td>\n",
       "      <td>33.000000</td>\n",
       "      <td>16.538462</td>\n",
       "      <td>5.999998</td>\n",
       "      <td>-0.301375</td>\n",
       "    </tr>\n",
       "    <tr>\n",
       "      <td>75%</td>\n",
       "      <td>1126.000000</td>\n",
       "      <td>1995.000000</td>\n",
       "      <td>41.000000</td>\n",
       "      <td>34.800000</td>\n",
       "      <td>12.646909</td>\n",
       "      <td>0.302705</td>\n",
       "    </tr>\n",
       "    <tr>\n",
       "      <td>max</td>\n",
       "      <td>19975.000000</td>\n",
       "      <td>2013.000000</td>\n",
       "      <td>70.000000</td>\n",
       "      <td>646.958333</td>\n",
       "      <td>249.352048</td>\n",
       "      <td>11.882015</td>\n",
       "    </tr>\n",
       "  </tbody>\n",
       "</table>\n",
       "</div>"
      ],
      "text/plain": [
       "          Citations  Earliest_Pub          Age   citperyear  citperyear13  \\\n",
       "count   2497.000000   2497.000000  2497.000000  2497.000000   2497.000000   \n",
       "mean     988.602723   1986.400080    33.599920    28.171185      9.924545   \n",
       "std     1561.622768     11.194044    11.194044    38.461738     13.314503   \n",
       "min        0.000000   1950.000000     7.000000     0.000000      0.000000   \n",
       "25%      215.000000   1979.000000    25.000000     7.176471      2.589171   \n",
       "50%      501.000000   1987.000000    33.000000    16.538462      5.999998   \n",
       "75%     1126.000000   1995.000000    41.000000    34.800000     12.646909   \n",
       "max    19975.000000   2013.000000    70.000000   646.958333    249.352048   \n",
       "\n",
       "            zscore  \n",
       "count  2497.000000  \n",
       "mean      0.035738  \n",
       "std       1.029228  \n",
       "min      -1.160355  \n",
       "25%      -0.592701  \n",
       "50%      -0.301375  \n",
       "75%       0.302705  \n",
       "max      11.882015  "
      ]
     },
     "metadata": {},
     "output_type": "display_data"
    }
   ],
   "source": [
    "for i, j in standardized.groupby('Gender'):\n",
    "    display(j.describe())"
   ]
  },
  {
   "cell_type": "code",
   "execution_count": 34,
   "metadata": {},
   "outputs": [
    {
     "data": {
      "text/plain": [
       "Text(0, 0.5, 'Counts')"
      ]
     },
     "execution_count": 34,
     "metadata": {},
     "output_type": "execute_result"
    },
    {
     "data": {
      "image/png": "[encoded data removed]",
      "text/plain": [
       "<Figure size 720x360 with 1 Axes>"
      ]
     },
     "metadata": {
      "needs_background": "light"
     },
     "output_type": "display_data"
    }
   ],
   "source": [
    "standardized.zscore.hist(bins=50)\n",
    "plt.title(\"Histogram of Z-scores\")\n",
    "plt.xlabel(\"Value\")\n",
    "plt.ylabel(\"Counts\")"
   ]
  },
  {
   "cell_type": "markdown",
   "metadata": {},
   "source": [
    "# Permutation Test Gender"
   ]
  },
  {
   "cell_type": "code",
   "execution_count": 35,
   "metadata": {},
   "outputs": [
    {
     "name": "stdout",
     "output_type": "stream",
     "text": [
      "-0.2878665164677147\n",
      "0.035738334042848104\n",
      "-0.3236048505105628\n"
     ]
    }
   ],
   "source": [
    "z = standardized[standardized.Gender=='Male'].zscore\n",
    "y = standardized[standardized.Gender=='Female'].zscore\n",
    "\n",
    "print(y.mean())\n",
    "print(z.mean())\n",
    "print(y.mean() - z.mean())"
   ]
  },
  {
   "cell_type": "code",
   "execution_count": 36,
   "metadata": {},
   "outputs": [
    {
     "name": "stdout",
     "output_type": "stream",
     "text": [
      "0.0\n"
     ]
    }
   ],
   "source": [
    "\n",
    "\n",
    "delta = y.mean() - z.mean()\n",
    "numSamples = 10000\n",
    "l=[]\n",
    "pooled = np.hstack([y,z])\n",
    "\n",
    "for i in range(numSamples):\n",
    "    x = run_permutation_test(pooled,z.size,y.size)\n",
    "    l.append(x)\n",
    "print(check(l))"
   ]
  },
  {
   "cell_type": "code",
   "execution_count": 37,
   "metadata": {},
   "outputs": [],
   "source": [
    "no_pde = standardized[standardized[\"Major field\"]!=\"PDE\"]\n",
    "no_cs = no_pde[no_pde[\"Major field\"]!= \"Computer Science\"]"
   ]
  },
  {
   "cell_type": "code",
   "execution_count": 38,
   "metadata": {},
   "outputs": [
    {
     "name": "stdout",
     "output_type": "stream",
     "text": [
      "-0.2878665164677147\n",
      "0.035738334042848104\n",
      "-0.3236048505105628\n"
     ]
    }
   ],
   "source": [
    "z = standardized[standardized.Gender=='Male'].zscore\n",
    "y = standardized[standardized.Gender=='Female'].zscore\n",
    "\n",
    "print(y.mean())\n",
    "print(z.mean())\n",
    "print(y.mean() - z.mean())"
   ]
  },
  {
   "cell_type": "code",
   "execution_count": null,
   "metadata": {},
   "outputs": [],
   "source": []
  },
  {
   "cell_type": "code",
   "execution_count": null,
   "metadata": {},
   "outputs": [],
   "source": []
  },
  {
   "cell_type": "markdown",
   "metadata": {},
   "source": [
    "# Rankings of universities top 38"
   ]
  },
  {
   "cell_type": "code",
   "execution_count": 39,
   "metadata": {},
   "outputs": [],
   "source": [
    "byschool = standardized.groupby('School').zscore.mean().sort_values( ascending=False)"
   ]
  },
  {
   "cell_type": "code",
   "execution_count": 40,
   "metadata": {},
   "outputs": [
    {
     "data": {
      "text/plain": [
       "School\n",
       "Princeton University                           1.772333\n",
       "Harvard University                             1.465666\n",
       "Stanford University                            1.019265\n",
       "University of Chicago                          0.955099\n",
       "Columbia University in the City of New York    0.902455\n",
       "Massachusetts Institute of Technology          0.864781\n",
       "University of California, Los Angeles          0.835296\n",
       "University of Miami                            0.782862\n",
       "Yale University                                0.759163\n",
       "Brown University                               0.617112\n",
       "University of California, Berkeley             0.592989\n",
       "New York University                            0.591825\n",
       "University of Oregon                           0.535733\n",
       "California Institute of Technology             0.425761\n",
       "Duke University                                0.399966\n",
       "Stony Brook University                         0.385291\n",
       "Rutgers University-New Brunswick               0.323667\n",
       "University of Virginia                         0.320344\n",
       "Texas A&M University                           0.306616\n",
       "Northwestern University                        0.284214\n",
       "University of Michigan                         0.269438\n",
       "Rice University                                0.266794\n",
       "The University of Texas at Austin              0.260132\n",
       "Carnegie Mellon University                     0.234670\n",
       "University of Illinois at Chicago              0.228812\n",
       "University of California, Irvine               0.216124\n",
       "University of Pittsburgh                       0.175216\n",
       "Georgia Institute of Technology                0.174301\n",
       "University of Minnesota                        0.173807\n",
       "Vanderbilt University                          0.153684\n",
       "Indiana University Bloomington                 0.134593\n",
       "SUNY at Albany                                 0.127854\n",
       "University of California, San Diego            0.115895\n",
       "University of North Texas                      0.039275\n",
       "University of Washington                       0.028879\n",
       "University of Connecticut                      0.019902\n",
       "Arizona State University                       0.001275\n",
       "Pennsylvania State University                  0.001075\n",
       "Name: zscore, dtype: float64"
      ]
     },
     "execution_count": 40,
     "metadata": {},
     "output_type": "execute_result"
    }
   ],
   "source": [
    "byschool.head(38)"
   ]
  },
  {
   "cell_type": "code",
   "execution_count": 41,
   "metadata": {},
   "outputs": [
    {
     "data": {
      "text/plain": [
       "2807"
      ]
     },
     "execution_count": 41,
     "metadata": {},
     "output_type": "execute_result"
    }
   ],
   "source": [
    "len(df)"
   ]
  },
  {
   "cell_type": "markdown",
   "metadata": {},
   "source": [
    "# tails and gender\n"
   ]
  },
  {
   "cell_type": "code",
   "execution_count": 42,
   "metadata": {},
   "outputs": [],
   "source": [
    "standardized = standardized.sort_values(\"zscore\", ascending=False )"
   ]
  },
  {
   "cell_type": "code",
   "execution_count": 43,
   "metadata": {},
   "outputs": [
    {
     "data": {
      "text/plain": [
       "Male      167\n",
       "Female     33\n",
       "Name: Gender, dtype: int64"
      ]
     },
     "execution_count": 43,
     "metadata": {},
     "output_type": "execute_result"
    }
   ],
   "source": [
    "standardized[len(standardized)-200:][\"Gender\"].value_counts()"
   ]
  },
  {
   "cell_type": "code",
   "execution_count": 44,
   "metadata": {},
   "outputs": [
    {
     "data": {
      "text/plain": [
       "Male      192\n",
       "Female      8\n",
       "Name: Gender, dtype: int64"
      ]
     },
     "execution_count": 44,
     "metadata": {},
     "output_type": "execute_result"
    }
   ],
   "source": [
    "standardized[:200][\"Gender\"].value_counts()"
   ]
  },
  {
   "cell_type": "code",
   "execution_count": 45,
   "metadata": {},
   "outputs": [
    {
     "data": {
      "text/plain": [
       "Male      2497\n",
       "Female     310\n",
       "Name: Gender, dtype: int64"
      ]
     },
     "execution_count": 45,
     "metadata": {},
     "output_type": "execute_result"
    }
   ],
   "source": [
    "standardized[\"Gender\"].value_counts()\n"
   ]
  },
  {
   "cell_type": "code",
   "execution_count": 46,
   "metadata": {},
   "outputs": [],
   "source": [
    "df = df.sort_values(\"citperyear13\", ascending=False  )"
   ]
  },
  {
   "cell_type": "code",
   "execution_count": 47,
   "metadata": {},
   "outputs": [
    {
     "data": {
      "text/plain": [
       "Male      190\n",
       "Female     10\n",
       "Name: Gender, dtype: int64"
      ]
     },
     "execution_count": 47,
     "metadata": {},
     "output_type": "execute_result"
    }
   ],
   "source": [
    "df[:200][\"Gender\"].value_counts()"
   ]
  },
  {
   "cell_type": "code",
   "execution_count": 48,
   "metadata": {},
   "outputs": [
    {
     "data": {
      "text/plain": [
       "Male      166\n",
       "Female     34\n",
       "Name: Gender, dtype: int64"
      ]
     },
     "execution_count": 48,
     "metadata": {},
     "output_type": "execute_result"
    }
   ],
   "source": [
    "df[len(df)-200:][\"Gender\"].value_counts()"
   ]
  },
  {
   "cell_type": "markdown",
   "metadata": {},
   "source": [
    "### Clustered in bottom at top?"
   ]
  },
  {
   "cell_type": "code",
   "execution_count": 49,
   "metadata": {},
   "outputs": [
    {
     "data": {
      "text/plain": [
       "Male      97\n",
       "Female     3\n",
       "Name: Gender, dtype: int64"
      ]
     },
     "execution_count": 49,
     "metadata": {},
     "output_type": "execute_result"
    }
   ],
   "source": [
    "#top 100\n",
    "slice_top = standardized[:100]\n",
    "slice_top.Gender.value_counts()"
   ]
  },
  {
   "cell_type": "code",
   "execution_count": 50,
   "metadata": {},
   "outputs": [
    {
     "data": {
      "text/plain": [
       "3.6232122355988667"
      ]
     },
     "execution_count": 50,
     "metadata": {},
     "output_type": "execute_result"
    }
   ],
   "source": [
    "slice_women = slice_top[slice_top[\"Gender\"] == \"Female\"]\n",
    "slice_women.zscore.mean()"
   ]
  },
  {
   "cell_type": "code",
   "execution_count": 51,
   "metadata": {},
   "outputs": [
    {
     "data": {
      "text/plain": [
       "3.65971126528825"
      ]
     },
     "execution_count": 51,
     "metadata": {},
     "output_type": "execute_result"
    }
   ],
   "source": [
    "slice_men = slice_top[slice_top[\"Gender\"] == \"Male\"]\n",
    "slice_men.zscore.mean()"
   ]
  },
  {
   "cell_type": "code",
   "execution_count": 52,
   "metadata": {},
   "outputs": [
    {
     "name": "stdout",
     "output_type": "stream",
     "text": [
      "0.5922\n"
     ]
    }
   ],
   "source": [
    "np.random.seed(0)\n",
    "z = slice_top[slice_top.Gender=='Male'].zscore\n",
    "y = slice_top[slice_top.Gender=='Female'].zscore\n",
    "pooled = np.hstack([z,y])\n",
    "delta = y.mean() - z.mean()\n",
    "numSamples = 10000\n",
    "l=[]\n",
    "for i in range(numSamples):\n",
    "    x = run_permutation_test(pooled,z.size,y.size)\n",
    "    l.append(x)\n",
    "print(check(l))\n"
   ]
  },
  {
   "cell_type": "code",
   "execution_count": 53,
   "metadata": {},
   "outputs": [
    {
     "data": {
      "text/plain": [
       "Male      192\n",
       "Female      8\n",
       "Name: Gender, dtype: int64"
      ]
     },
     "execution_count": 53,
     "metadata": {},
     "output_type": "execute_result"
    }
   ],
   "source": [
    "slice_top = standardized[:200]\n",
    "slice_top.Gender.value_counts()"
   ]
  },
  {
   "cell_type": "code",
   "execution_count": 54,
   "metadata": {},
   "outputs": [
    {
     "data": {
      "text/plain": [
       "2.54442171448912"
      ]
     },
     "execution_count": 54,
     "metadata": {},
     "output_type": "execute_result"
    }
   ],
   "source": [
    "slice_women = slice_top[slice_top[\"Gender\"] == \"Female\"]\n",
    "slice_women.zscore.mean()"
   ]
  },
  {
   "cell_type": "code",
   "execution_count": 55,
   "metadata": {},
   "outputs": [
    {
     "data": {
      "text/plain": [
       "2.750985753970976"
      ]
     },
     "execution_count": 55,
     "metadata": {},
     "output_type": "execute_result"
    }
   ],
   "source": [
    "slice_men = slice_top[slice_top[\"Gender\"] == \"Male\"]\n",
    "slice_men.zscore.mean()"
   ]
  },
  {
   "cell_type": "code",
   "execution_count": 56,
   "metadata": {},
   "outputs": [
    {
     "name": "stdout",
     "output_type": "stream",
     "text": [
      "0.3931\n"
     ]
    }
   ],
   "source": [
    "# Permutation test\n",
    "np.random.seed(0)\n",
    "z = slice_top[slice_top.Gender=='Male'].zscore\n",
    "y = slice_top[slice_top.Gender=='Female'].zscore\n",
    "pooled = np.hstack([z,y])\n",
    "delta = y.mean() - z.mean()\n",
    "numSamples = 10000\n",
    "l=[]\n",
    "for i in range(numSamples):\n",
    "    x = run_permutation_test(pooled,z.size,y.size)\n",
    "    l.append(x)\n",
    "print(check(l))\n"
   ]
  },
  {
   "cell_type": "code",
   "execution_count": 57,
   "metadata": {},
   "outputs": [],
   "source": [
    "#Top 300"
   ]
  },
  {
   "cell_type": "code",
   "execution_count": 58,
   "metadata": {},
   "outputs": [
    {
     "data": {
      "text/plain": [
       "Male      288\n",
       "Female     12\n",
       "Name: Gender, dtype: int64"
      ]
     },
     "execution_count": 58,
     "metadata": {},
     "output_type": "execute_result"
    }
   ],
   "source": [
    "slice_top = standardized[:300]\n",
    "slice_top.Gender.value_counts()"
   ]
  },
  {
   "cell_type": "code",
   "execution_count": 59,
   "metadata": {},
   "outputs": [
    {
     "data": {
      "text/plain": [
       "2.1259808577743877"
      ]
     },
     "execution_count": 59,
     "metadata": {},
     "output_type": "execute_result"
    }
   ],
   "source": [
    "slice_women = slice_top[slice_top[\"Gender\"] == \"Female\"]\n",
    "slice_women.zscore.mean()"
   ]
  },
  {
   "cell_type": "code",
   "execution_count": 60,
   "metadata": {},
   "outputs": [
    {
     "data": {
      "text/plain": [
       "2.2423519281225053"
      ]
     },
     "execution_count": 60,
     "metadata": {},
     "output_type": "execute_result"
    }
   ],
   "source": [
    "slice_men = slice_top[slice_top[\"Gender\"] == \"Male\"]\n",
    "slice_men.zscore.mean()"
   ]
  },
  {
   "cell_type": "code",
   "execution_count": 61,
   "metadata": {},
   "outputs": [
    {
     "name": "stdout",
     "output_type": "stream",
     "text": [
      "0.4332\n"
     ]
    }
   ],
   "source": [
    "# Permutation test\n",
    "np.random.seed(0)\n",
    "z = slice_top[slice_top.Gender=='Male'].zscore\n",
    "y = slice_top[slice_top.Gender=='Female'].zscore\n",
    "pooled = np.hstack([z,y])\n",
    "delta = y.mean() - z.mean()\n",
    "numSamples = 10000\n",
    "l=[]\n",
    "for i in range(numSamples):\n",
    "    x = run_permutation_test(pooled,z.size,y.size)\n",
    "    l.append(x)\n",
    "print(check(l))\n"
   ]
  },
  {
   "cell_type": "code",
   "execution_count": 62,
   "metadata": {},
   "outputs": [],
   "source": [
    "# Top 400"
   ]
  },
  {
   "cell_type": "code",
   "execution_count": 63,
   "metadata": {},
   "outputs": [
    {
     "data": {
      "text/plain": [
       "Male      384\n",
       "Female     16\n",
       "Name: Gender, dtype: int64"
      ]
     },
     "execution_count": 63,
     "metadata": {},
     "output_type": "execute_result"
    }
   ],
   "source": [
    "slice_top = standardized[:400]\n",
    "slice_top.Gender.value_counts()"
   ]
  },
  {
   "cell_type": "code",
   "execution_count": 64,
   "metadata": {},
   "outputs": [
    {
     "data": {
      "text/plain": [
       "1.8355808851208724"
      ]
     },
     "execution_count": 64,
     "metadata": {},
     "output_type": "execute_result"
    }
   ],
   "source": [
    "slice_women = slice_top[slice_top[\"Gender\"] == \"Female\"]\n",
    "slice_women.zscore.mean()"
   ]
  },
  {
   "cell_type": "code",
   "execution_count": 65,
   "metadata": {},
   "outputs": [
    {
     "data": {
      "text/plain": [
       "1.9093396085287047"
      ]
     },
     "execution_count": 65,
     "metadata": {},
     "output_type": "execute_result"
    }
   ],
   "source": [
    "slice_men = slice_top[slice_top[\"Gender\"] == \"Male\"]\n",
    "slice_men.zscore.mean()"
   ]
  },
  {
   "cell_type": "code",
   "execution_count": 66,
   "metadata": {},
   "outputs": [
    {
     "name": "stdout",
     "output_type": "stream",
     "text": [
      "-0.0737587234078323\n",
      "0.4569\n"
     ]
    }
   ],
   "source": [
    "# Permutation test\n",
    "np.random.seed(0)\n",
    "z = slice_top[slice_top.Gender=='Male'].zscore\n",
    "y = slice_top[slice_top.Gender=='Female'].zscore\n",
    "pooled = np.hstack([z,y])\n",
    "delta = y.mean() - z.mean()\n",
    "print(delta)\n",
    "numSamples = 10000\n",
    "l=[]\n",
    "for i in range(numSamples):\n",
    "    x = run_permutation_test(pooled,z.size,y.size)\n",
    "    l.append(x)\n",
    "print(check(l))\n"
   ]
  },
  {
   "cell_type": "code",
   "execution_count": 67,
   "metadata": {},
   "outputs": [
    {
     "data": {
      "text/plain": [
       "Male      477\n",
       "Female     23\n",
       "Name: Gender, dtype: int64"
      ]
     },
     "execution_count": 67,
     "metadata": {},
     "output_type": "execute_result"
    }
   ],
   "source": [
    "# top 500\n",
    "slice_top = standardized[:500]\n",
    "slice_top.Gender.value_counts()\n"
   ]
  },
  {
   "cell_type": "code",
   "execution_count": 68,
   "metadata": {},
   "outputs": [
    {
     "data": {
      "text/plain": [
       "1.499351891439479"
      ]
     },
     "execution_count": 68,
     "metadata": {},
     "output_type": "execute_result"
    }
   ],
   "source": [
    "slice_women = slice_top[slice_top[\"Gender\"] == \"Female\"]\n",
    "slice_women.zscore.mean()"
   ]
  },
  {
   "cell_type": "code",
   "execution_count": 69,
   "metadata": {},
   "outputs": [
    {
     "data": {
      "text/plain": [
       "1.6703892863769825"
      ]
     },
     "execution_count": 69,
     "metadata": {},
     "output_type": "execute_result"
    }
   ],
   "source": [
    "slice_men = slice_top[slice_top[\"Gender\"] == \"Male\"]\n",
    "slice_men.zscore.mean()"
   ]
  },
  {
   "cell_type": "code",
   "execution_count": 70,
   "metadata": {},
   "outputs": [
    {
     "name": "stdout",
     "output_type": "stream",
     "text": [
      "-0.17103739493750347\n",
      "0.2791\n"
     ]
    }
   ],
   "source": [
    "# Permutation test\n",
    "np.random.seed(0)\n",
    "z = slice_top[slice_top.Gender=='Male'].zscore\n",
    "y = slice_top[slice_top.Gender=='Female'].zscore\n",
    "pooled = np.hstack([z,y])\n",
    "delta = y.mean() - z.mean()\n",
    "print(delta)\n",
    "numSamples = 10000\n",
    "l=[]\n",
    "for i in range(numSamples):\n",
    "    x = run_permutation_test(pooled,z.size,y.size)\n",
    "    l.append(x)\n",
    "print(check(l))\n"
   ]
  },
  {
   "cell_type": "code",
   "execution_count": 71,
   "metadata": {},
   "outputs": [
    {
     "data": {
      "text/plain": [
       "Male      567\n",
       "Female     33\n",
       "Name: Gender, dtype: int64"
      ]
     },
     "execution_count": 71,
     "metadata": {},
     "output_type": "execute_result"
    }
   ],
   "source": [
    "#top 600\n",
    "slice_top = standardized[:600]\n",
    "slice_top.Gender.value_counts()\n"
   ]
  },
  {
   "cell_type": "code",
   "execution_count": 72,
   "metadata": {},
   "outputs": [
    {
     "data": {
      "text/plain": [
       "1.1812153420561602"
      ]
     },
     "execution_count": 72,
     "metadata": {},
     "output_type": "execute_result"
    }
   ],
   "source": [
    "slice_women = slice_top[slice_top[\"Gender\"] == \"Female\"]\n",
    "slice_women.zscore.mean()\n"
   ]
  },
  {
   "cell_type": "code",
   "execution_count": 73,
   "metadata": {},
   "outputs": [
    {
     "data": {
      "text/plain": [
       "1.480999795640049"
      ]
     },
     "execution_count": 73,
     "metadata": {},
     "output_type": "execute_result"
    }
   ],
   "source": [
    "slice_men = slice_top[slice_top[\"Gender\"] == \"Male\"]\n",
    "slice_men.zscore.mean()"
   ]
  },
  {
   "cell_type": "code",
   "execution_count": 74,
   "metadata": {},
   "outputs": [
    {
     "name": "stdout",
     "output_type": "stream",
     "text": [
      "-0.2997844535838887\n",
      "0.0775\n"
     ]
    }
   ],
   "source": [
    "# Permutation test\n",
    "np.random.seed(0)\n",
    "z = slice_top[slice_top.Gender=='Male'].zscore\n",
    "y = slice_top[slice_top.Gender=='Female'].zscore\n",
    "pooled = np.hstack([z,y])\n",
    "delta = y.mean() - z.mean()\n",
    "print(delta)\n",
    "numSamples = 10000\n",
    "l=[]\n",
    "for i in range(numSamples):\n",
    "    x = run_permutation_test(pooled,z.size,y.size)\n",
    "    l.append(x)\n",
    "print(check(l))\n"
   ]
  },
  {
   "cell_type": "code",
   "execution_count": 75,
   "metadata": {},
   "outputs": [
    {
     "data": {
      "text/plain": [
       "Male      660\n",
       "Female     40\n",
       "Name: Gender, dtype: int64"
      ]
     },
     "execution_count": 75,
     "metadata": {},
     "output_type": "execute_result"
    }
   ],
   "source": [
    "#top 700\n",
    "slice_top = standardized[:700]\n",
    "slice_top.Gender.value_counts()\n"
   ]
  },
  {
   "cell_type": "code",
   "execution_count": 76,
   "metadata": {},
   "outputs": [
    {
     "data": {
      "text/plain": [
       "1.0322531915581363"
      ]
     },
     "execution_count": 76,
     "metadata": {},
     "output_type": "execute_result"
    }
   ],
   "source": [
    "\n",
    "slice_women = slice_top[slice_top[\"Gender\"] == \"Female\"]\n",
    "slice_women.zscore.mean()"
   ]
  },
  {
   "cell_type": "code",
   "execution_count": 77,
   "metadata": {},
   "outputs": [
    {
     "data": {
      "text/plain": [
       "1.3180622534089776"
      ]
     },
     "execution_count": 77,
     "metadata": {},
     "output_type": "execute_result"
    }
   ],
   "source": [
    "slice_men = slice_top[slice_top[\"Gender\"] == \"Male\"]\n",
    "slice_men.zscore.mean()"
   ]
  },
  {
   "cell_type": "code",
   "execution_count": 78,
   "metadata": {},
   "outputs": [
    {
     "name": "stdout",
     "output_type": "stream",
     "text": [
      "-0.2858090618508413\n",
      "0.0645\n"
     ]
    }
   ],
   "source": [
    "np.random.seed(0)\n",
    "z = slice_top[slice_top.Gender=='Male'].zscore\n",
    "y = slice_top[slice_top.Gender=='Female'].zscore\n",
    "pooled = np.hstack([z,y])\n",
    "delta = y.mean() - z.mean()\n",
    "print(delta)\n",
    "numSamples = 10000\n",
    "l=[]\n",
    "for i in range(numSamples):\n",
    "    x = run_permutation_test(pooled,z.size,y.size)\n",
    "    l.append(x)\n",
    "print(check(l))\n"
   ]
  },
  {
   "cell_type": "code",
   "execution_count": 79,
   "metadata": {},
   "outputs": [
    {
     "data": {
      "text/plain": [
       "Male      754\n",
       "Female     46\n",
       "Name: Gender, dtype: int64"
      ]
     },
     "execution_count": 79,
     "metadata": {},
     "output_type": "execute_result"
    }
   ],
   "source": [
    "# top 800\n",
    "\n",
    "slice_top = standardized[:800]\n",
    "slice_top.Gender.value_counts()\n"
   ]
  },
  {
   "cell_type": "code",
   "execution_count": 80,
   "metadata": {},
   "outputs": [
    {
     "data": {
      "text/plain": [
       "0.924732747419224"
      ]
     },
     "execution_count": 80,
     "metadata": {},
     "output_type": "execute_result"
    }
   ],
   "source": [
    "\n",
    "slice_women = slice_top[slice_top[\"Gender\"] == \"Female\"]\n",
    "slice_women.zscore.mean()\n"
   ]
  },
  {
   "cell_type": "code",
   "execution_count": 81,
   "metadata": {},
   "outputs": [
    {
     "data": {
      "text/plain": [
       "1.1788170884163587"
      ]
     },
     "execution_count": 81,
     "metadata": {},
     "output_type": "execute_result"
    }
   ],
   "source": [
    "slice_men = slice_top[slice_top[\"Gender\"] == \"Male\"]\n",
    "slice_men.zscore.mean()"
   ]
  },
  {
   "cell_type": "code",
   "execution_count": 82,
   "metadata": {},
   "outputs": [
    {
     "name": "stdout",
     "output_type": "stream",
     "text": [
      "-0.25408434099713473\n",
      "0.0716\n"
     ]
    }
   ],
   "source": [
    "np.random.seed(0)\n",
    "z = slice_top[slice_top.Gender=='Male'].zscore\n",
    "y = slice_top[slice_top.Gender=='Female'].zscore\n",
    "pooled = np.hstack([z,y])\n",
    "delta = y.mean() - z.mean()\n",
    "print(delta)\n",
    "numSamples = 10000\n",
    "l=[]\n",
    "for i in range(numSamples):\n",
    "    x = run_permutation_test(pooled,z.size,y.size)\n",
    "    l.append(x)\n",
    "print(check(l))\n"
   ]
  },
  {
   "cell_type": "code",
   "execution_count": 83,
   "metadata": {},
   "outputs": [
    {
     "data": {
      "text/plain": [
       "Male      841\n",
       "Female     59\n",
       "Name: Gender, dtype: int64"
      ]
     },
     "execution_count": 83,
     "metadata": {},
     "output_type": "execute_result"
    }
   ],
   "source": [
    "# top 900\n",
    "\n",
    "slice_top = standardized[:900]\n",
    "slice_top.Gender.value_counts()\n"
   ]
  },
  {
   "cell_type": "code",
   "execution_count": 84,
   "metadata": {},
   "outputs": [
    {
     "data": {
      "text/plain": [
       "0.7365986377840082"
      ]
     },
     "execution_count": 84,
     "metadata": {},
     "output_type": "execute_result"
    }
   ],
   "source": [
    "\n",
    "slice_women = slice_top[slice_top[\"Gender\"] == \"Female\"]\n",
    "slice_women.zscore.mean()\n"
   ]
  },
  {
   "cell_type": "code",
   "execution_count": 85,
   "metadata": {},
   "outputs": [
    {
     "data": {
      "text/plain": [
       "1.065097521144994"
      ]
     },
     "execution_count": 85,
     "metadata": {},
     "output_type": "execute_result"
    }
   ],
   "source": [
    "slice_men = slice_top[slice_top[\"Gender\"] == \"Male\"]\n",
    "slice_men.zscore.mean()"
   ]
  },
  {
   "cell_type": "code",
   "execution_count": 86,
   "metadata": {},
   "outputs": [
    {
     "name": "stdout",
     "output_type": "stream",
     "text": [
      "-0.32849888336098576\n",
      "0.0103\n"
     ]
    }
   ],
   "source": [
    "np.random.seed(0)\n",
    "z = slice_top[slice_top.Gender=='Male'].zscore\n",
    "y = slice_top[slice_top.Gender=='Female'].zscore\n",
    "pooled = np.hstack([z,y])\n",
    "delta = y.mean() - z.mean()\n",
    "print(delta)\n",
    "numSamples = 10000\n",
    "l=[]\n",
    "for i in range(numSamples):\n",
    "    x = run_permutation_test(pooled,z.size,y.size)\n",
    "    l.append(x)\n",
    "print(check(l))\n"
   ]
  },
  {
   "cell_type": "markdown",
   "metadata": {},
   "source": [
    " so until the top 900, women are not clustered at the bottom."
   ]
  },
  {
   "cell_type": "markdown",
   "metadata": {},
   "source": [
    "# Adjusting means and then comparing variance"
   ]
  },
  {
   "cell_type": "code",
   "execution_count": 108,
   "metadata": {},
   "outputs": [],
   "source": [
    "Men = standardized[standardized[\"Gender\"] == \"Male\"][\"zscore\"]\n",
    "Women = standardized[standardized[\"Gender\"] == \"Female\"][\"zscore\"]"
   ]
  },
  {
   "cell_type": "code",
   "execution_count": 124,
   "metadata": {},
   "outputs": [],
   "source": [
    "MS_men = np.mean(Men)**2\n",
    "MS_women = np.mean(Women)**2"
   ]
  },
  {
   "cell_type": "code",
   "execution_count": 125,
   "metadata": {},
   "outputs": [
    {
     "data": {
      "text/plain": [
       "649100.151379229"
      ]
     },
     "execution_count": 125,
     "metadata": {},
     "output_type": "execute_result"
    }
   ],
   "source": [
    "np.var(Men/MS_men)"
   ]
  },
  {
   "cell_type": "code",
   "execution_count": 126,
   "metadata": {},
   "outputs": [
    {
     "data": {
      "text/plain": [
       "62.98757916459244"
      ]
     },
     "execution_count": 126,
     "metadata": {},
     "output_type": "execute_result"
    }
   ],
   "source": [
    "np.var(Women/MS_women)"
   ]
  },
  {
   "cell_type": "code",
   "execution_count": 137,
   "metadata": {},
   "outputs": [],
   "source": [
    "Men = df[df[\"Gender\"]==\"Male\"][\"citperyear13\"]\n",
    "Women = df[df[\"Gender\"]==\"Female\"][\"citperyear13\"]"
   ]
  },
  {
   "cell_type": "code",
   "execution_count": 138,
   "metadata": {},
   "outputs": [],
   "source": [
    "MS_men = np.mean(Men)**2\n",
    "MS_women = np.mean(Women)**2"
   ]
  },
  {
   "cell_type": "code",
   "execution_count": 139,
   "metadata": {},
   "outputs": [
    {
     "data": {
      "text/plain": [
       "0.01826558592127423"
      ]
     },
     "execution_count": 139,
     "metadata": {},
     "output_type": "execute_result"
    }
   ],
   "source": [
    "np.var(Men/MS_men)"
   ]
  },
  {
   "cell_type": "code",
   "execution_count": 140,
   "metadata": {},
   "outputs": [
    {
     "data": {
      "text/plain": [
       "0.04227583330024709"
      ]
     },
     "execution_count": 140,
     "metadata": {},
     "output_type": "execute_result"
    }
   ],
   "source": [
    "np.var(Women/MS_women)"
   ]
  },
  {
   "cell_type": "code",
   "execution_count": 145,
   "metadata": {},
   "outputs": [
    {
     "data": {
      "text/plain": [
       "-1.1603553546388397"
      ]
     },
     "execution_count": 145,
     "metadata": {},
     "output_type": "execute_result"
    }
   ],
   "source": [
    "np.min(standardized[\"zscore\"])"
   ]
  },
  {
   "cell_type": "code",
   "execution_count": 146,
   "metadata": {},
   "outputs": [],
   "source": [
    "standardized[\"poszscore\"] = standardized[\"zscore\"]-np.min(standardized[\"zscore\"])"
   ]
  },
  {
   "cell_type": "code",
   "execution_count": 147,
   "metadata": {},
   "outputs": [
    {
     "data": {
      "text/plain": [
       "0.0"
      ]
     },
     "execution_count": 147,
     "metadata": {},
     "output_type": "execute_result"
    }
   ],
   "source": [
    "np.min(standardized[\"poszscore\"])"
   ]
  },
  {
   "cell_type": "code",
   "execution_count": 148,
   "metadata": {},
   "outputs": [
    {
     "data": {
      "text/plain": [
       "0.5173543803943632"
      ]
     },
     "execution_count": 148,
     "metadata": {},
     "output_type": "execute_result"
    }
   ],
   "source": [
    "Men = standardized[standardized[\"Gender\"] == \"Male\"][\"poszscore\"]\n",
    "Women = standardized[standardized[\"Gender\"] == \"Female\"][\"poszscore\"]\n",
    "MS_men = np.mean(Men)**2\n",
    "MS_women = np.mean(Women)**2\n",
    "np.var(Men/MS_men)"
   ]
  },
  {
   "cell_type": "code",
   "execution_count": 150,
   "metadata": {},
   "outputs": [
    {
     "data": {
      "text/plain": [
       "0.7464143973299803"
      ]
     },
     "execution_count": 150,
     "metadata": {},
     "output_type": "execute_result"
    }
   ],
   "source": [
    "np.var(Women/MS_women)"
   ]
  },
  {
   "cell_type": "code",
   "execution_count": null,
   "metadata": {},
   "outputs": [],
   "source": []
  }
 ],
 "metadata": {
  "kernelspec": {
   "display_name": "Python 3",
   "language": "python",
   "name": "python3"
  },
  "language_info": {
   "codemirror_mode": {
    "name": "ipython",
    "version": 3
   },
   "file_extension": ".py",
   "mimetype": "text/x-python",
   "name": "python",
   "nbconvert_exporter": "python",
   "pygments_lexer": "ipython3",
   "version": "3.7.4"
  }
 },
 "nbformat": 4,
 "nbformat_minor": 2
}
